{
 "metadata": {
  "language_info": {
   "codemirror_mode": {
    "name": "ipython",
    "version": 3
   },
   "file_extension": ".py",
   "mimetype": "text/x-python",
   "name": "python",
   "nbconvert_exporter": "python",
   "pygments_lexer": "ipython3",
   "version": "3.7.7-final"
  },
  "orig_nbformat": 2,
  "kernelspec": {
   "name": "python377jvsc74a57bd0cedd39822bcca30d743408652c20b6bd158f920cf0471efaff7b29f612b7b2b2",
   "display_name": "Python 3.7.7 64-bit (conda)"
  }
 },
 "nbformat": 4,
 "nbformat_minor": 2,
 "cells": [
  {
   "cell_type": "code",
   "execution_count": 5,
   "metadata": {},
   "outputs": [],
   "source": [
    "import numpy as np\n",
    "import projection as proj\n",
    "import interpolation as intp\n",
    "from mpl_toolkits import mplot3d\n",
    "import matplotlib.pyplot as plt\n",
    "from mpl_toolkits.mplot3d import axes3d\n",
    "%matplotlib ipympl"
   ]
  },
  {
   "cell_type": "code",
   "execution_count": 6,
   "metadata": {},
   "outputs": [],
   "source": [
    "X = np.array([[0,   0,   0  ],\n",
    "              [1,   0,   0.4],\n",
    "              [1.5, 0.4, 1.0],\n",
    "              [1.2, 1.0, 1.7]]).T\n",
    "P = np.array([1.5, 0.0, 0.0])"
   ]
  },
  {
   "cell_type": "code",
   "execution_count": 8,
   "metadata": {},
   "outputs": [],
   "source": [
    "interpolation_d0 = lambda x: intp.lagrange_polynomial(degree=X.shape[1]-1, eval_pts=x)\n",
    "interpolation_d1 = lambda x: intp.lagrange_polynomial_derivative(degree=X.shape[1]-1, eval_pts=x)\n",
    "interpolation_d2 = lambda x: intp.lagrange_polynomial_2_derivative(degree=X.shape[1]-1, eval_pts=x)\n",
    "interpolation_d3 = lambda x: intp.lagrange_polynomial_3_derivative(degree=X.shape[1]-1, eval_pts=x)"
   ]
  },
  {
   "cell_type": "code",
   "execution_count": 9,
   "metadata": {},
   "outputs": [],
   "source": [
    "v = proj.nearest_point_projection(\n",
    "    interpolation_d0,\n",
    "    interpolation_d1,\n",
    "    interpolation_d2,\n",
    "    X, P,\n",
    "    s0=0, TOLER=1e-8, MAXITER=10\n",
    ")"
   ]
  },
  {
   "cell_type": "code",
   "execution_count": 10,
   "metadata": {},
   "outputs": [],
   "source": [
    "s = np.linspace(-1, 1)\n",
    "x = X[0] @ interpolation_d0(s)\n",
    "y = X[1] @ interpolation_d0(s)\n",
    "z = X[2] @ interpolation_d0(s)\n",
    "\n",
    "T = np.zeros(3)\n",
    "T[0] = X[0] @ interpolation_d0([v[0]])\n",
    "T[1] = X[1] @ interpolation_d0([v[0]])\n",
    "T[2] = X[2] @ interpolation_d0([v[0]])"
   ]
  },
  {
   "cell_type": "code",
   "execution_count": 11,
   "metadata": {},
   "outputs": [
    {
     "output_type": "display_data",
     "data": {
      "text/plain": "FigureCanvasNbAgg()",
      "application/vnd.jupyter.widget-view+json": {
       "version_major": 2,
       "version_minor": 0,
       "model_id": "1757006fe2a043eebb662474102e233c"
      }
     },
     "metadata": {}
    }
   ],
   "source": [
    "fig = plt.figure()\n",
    "ax = plt.axes(projection='3d')\n",
    "\n",
    "ax.plot(x, y, z)\n",
    "ax.plot([P[0]], [P[1]], [P[2]], 'o')\n",
    "ax.plot([T[0]], [T[1]], [T[2]], 'o')\n",
    "\n",
    "ax.set_xlim((-0.25,1.75))\n",
    "ax.set_ylim((-0.5,1.5))\n",
    "ax.set_zlim((-0.25,1.75))\n",
    "plt.show()"
   ]
  },
  {
   "cell_type": "code",
   "execution_count": null,
   "metadata": {},
   "outputs": [],
   "source": []
  },
  {
   "cell_type": "code",
   "execution_count": null,
   "metadata": {},
   "outputs": [],
   "source": []
  }
 ]
}