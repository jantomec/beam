{
 "metadata": {
  "language_info": {
   "codemirror_mode": {
    "name": "ipython",
    "version": 3
   },
   "file_extension": ".py",
   "mimetype": "text/x-python",
   "name": "python",
   "nbconvert_exporter": "python",
   "pygments_lexer": "ipython3",
   "version": "3.9.4"
  },
  "orig_nbformat": 4,
  "kernelspec": {
   "name": "python3",
   "display_name": "Python 3.9.4 64-bit ('base': conda)"
  },
  "interpreter": {
   "hash": "95ec9ec1504d83f612128e0fb229072f90bbb4cb09d9d5d93b5dd26e0ca2cfd1"
  }
 },
 "nbformat": 4,
 "nbformat_minor": 2,
 "cells": [
  {
   "cell_type": "code",
   "execution_count": 1,
   "metadata": {},
   "outputs": [],
   "source": [
    "import functools\n",
    "import numpy as np\n",
    "from beam.system import System\n",
    "from beam import mesh\n",
    "from beam import postprocessing as postproc"
   ]
  },
  {
   "cell_type": "code",
   "execution_count": 2,
   "metadata": {},
   "outputs": [],
   "source": [
    "np.set_printoptions(linewidth=10000)"
   ]
  },
  {
   "cell_type": "code",
   "execution_count": 3,
   "metadata": {},
   "outputs": [],
   "source": [
    "mat = {\n",
    "    'Area':1.0,\n",
    "    'Elastic modulus':1.0,\n",
    "    'Shear modulus':1.0,\n",
    "    'Inertia primary':2.0,\n",
    "    'Inertia secondary':1.0,\n",
    "    'Inertia torsion':1.0,\n",
    "    'Shear coefficient primary':1.0,\n",
    "    'Shear coefficient secondary':1.0,\n",
    "    'Density':1.0,\n",
    "    'Contact radius':1.0\n",
    "}\n",
    "\n",
    "(coordinates, elements) = mesh.line_mesh(A=(0,0,0), B=(1,0,0), n_elements=1, order=1, material=mat, reference_vector=(0,0,1))\n",
    "system = System(coordinates, elements)\n",
    "system.time_step = 1.0\n",
    "system.final_time = 1.0\n",
    "system.solver_type = 'static'\n",
    "system.contact_detection=False\n",
    "\n",
    "def user_force_load(self):\n",
    "    n_nodes = self.get_number_of_nodes()\n",
    "    Q = np.zeros((6, n_nodes))\n",
    "    Q[4,-1] = 8*np.pi\n",
    "    return Q\n",
    "\n",
    "system.degrees_of_freedom[-1][:6,0] = False  # [current time, dof 0 through 5, node 0]\n",
    "\n",
    "system.force_load = functools.partial(user_force_load, system)"
   ]
  },
  {
   "cell_type": "code",
   "execution_count": 13,
   "metadata": {},
   "outputs": [
    {
     "output_type": "execute_result",
     "data": {
      "text/plain": [
       "array([[0., 1.],\n",
       "       [0., 0.],\n",
       "       [0., 0.]])"
      ]
     },
     "metadata": {},
     "execution_count": 13
    }
   ],
   "source": [
    "system.coordinates"
   ]
  },
  {
   "cell_type": "code",
   "execution_count": 14,
   "metadata": {},
   "outputs": [
    {
     "output_type": "execute_result",
     "data": {
      "text/plain": [
       "array([[ 1.00000000e+00,  0.00000000e+00,  0.00000000e+00,  0.00000000e+00,  1.22464680e-16,  0.00000000e+00, -1.00000000e+00,  0.00000000e+00,  0.00000000e+00,  0.00000000e+00,  1.22464680e-16,  0.00000000e+00],\n",
       "       [ 0.00000000e+00,  1.00000000e+00,  0.00000000e+00, -1.22464680e-16,  0.00000000e+00,  5.00000000e-01,  0.00000000e+00, -1.00000000e+00,  0.00000000e+00, -1.22464680e-16,  0.00000000e+00,  5.00000000e-01],\n",
       "       [ 0.00000000e+00,  0.00000000e+00,  1.00000000e+00,  0.00000000e+00, -5.00000000e-01,  0.00000000e+00,  0.00000000e+00,  0.00000000e+00, -1.00000000e+00,  0.00000000e+00, -5.00000000e-01,  0.00000000e+00],\n",
       "       [ 0.00000000e+00, -1.22464680e-16,  0.00000000e+00,  1.00000000e+00,  0.00000000e+00,  1.25663706e+01,  0.00000000e+00,  1.22464680e-16,  0.00000000e+00, -1.00000000e+00,  0.00000000e+00,  1.25663706e+01],\n",
       "       [ 1.22464680e-16,  0.00000000e+00, -5.00000000e-01,  0.00000000e+00,  2.25000000e+00,  0.00000000e+00, -1.22464680e-16,  0.00000000e+00,  5.00000000e-01,  0.00000000e+00, -1.75000000e+00,  0.00000000e+00],\n",
       "       [ 0.00000000e+00,  5.00000000e-01,  0.00000000e+00, -1.25663706e+01,  0.00000000e+00,  1.25000000e+00,  0.00000000e+00, -5.00000000e-01,  0.00000000e+00, -1.25663706e+01,  0.00000000e+00, -7.50000000e-01],\n",
       "       [-1.00000000e+00,  0.00000000e+00,  0.00000000e+00,  0.00000000e+00, -1.22464680e-16,  0.00000000e+00,  1.00000000e+00,  0.00000000e+00,  0.00000000e+00,  0.00000000e+00, -1.22464680e-16,  0.00000000e+00],\n",
       "       [ 0.00000000e+00, -1.00000000e+00,  0.00000000e+00,  1.22464680e-16,  0.00000000e+00, -5.00000000e-01,  0.00000000e+00,  1.00000000e+00,  0.00000000e+00,  1.22464680e-16,  0.00000000e+00, -5.00000000e-01],\n",
       "       [ 0.00000000e+00,  0.00000000e+00, -1.00000000e+00,  0.00000000e+00,  5.00000000e-01,  0.00000000e+00,  0.00000000e+00,  0.00000000e+00,  1.00000000e+00,  0.00000000e+00,  5.00000000e-01,  0.00000000e+00],\n",
       "       [ 0.00000000e+00, -1.22464680e-16,  0.00000000e+00, -1.00000000e+00,  0.00000000e+00, -1.25663706e+01,  0.00000000e+00,  1.22464680e-16,  0.00000000e+00,  1.00000000e+00,  0.00000000e+00, -1.25663706e+01],\n",
       "       [ 1.22464680e-16,  0.00000000e+00, -5.00000000e-01,  0.00000000e+00, -1.75000000e+00,  0.00000000e+00, -1.22464680e-16,  0.00000000e+00,  5.00000000e-01,  0.00000000e+00,  2.25000000e+00,  0.00000000e+00],\n",
       "       [ 0.00000000e+00,  5.00000000e-01,  0.00000000e+00,  1.25663706e+01,  0.00000000e+00, -7.50000000e-01,  0.00000000e+00, -5.00000000e-01,  0.00000000e+00,  1.25663706e+01,  0.00000000e+00,  1.25000000e+00]])"
      ]
     },
     "metadata": {},
     "execution_count": 14
    }
   ],
   "source": [
    "elements[0].stiffness_matrix(system.coordinates)"
   ]
  },
  {
   "cell_type": "code",
   "execution_count": null,
   "metadata": {},
   "outputs": [],
   "source": []
  }
 ]
}