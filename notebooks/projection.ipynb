{
 "metadata": {
  "language_info": {
   "codemirror_mode": {
    "name": "ipython",
    "version": 3
   },
   "file_extension": ".py",
   "mimetype": "text/x-python",
   "name": "python",
   "nbconvert_exporter": "python",
   "pygments_lexer": "ipython3",
   "version": "3.7.7"
  },
  "orig_nbformat": 2,
  "kernelspec": {
   "name": "python377jvsc74a57bd0cedd39822bcca30d743408652c20b6bd158f920cf0471efaff7b29f612b7b2b2",
   "display_name": "Python 3.7.7 64-bit ('base': conda)"
  }
 },
 "nbformat": 4,
 "nbformat_minor": 2,
 "cells": [
  {
   "cell_type": "code",
   "execution_count": 1,
   "metadata": {},
   "outputs": [
    {
     "output_type": "stream",
     "name": "stdout",
     "text": [
      "Root directory: c:\\Users\\jan.tomec\\OneDrive - Sveučilište u Rijeci\\THREAD\\beam\n"
     ]
    }
   ],
   "source": [
    "import os\n",
    "import sys\n",
    "\n",
    "cwd = os.getcwd()\n",
    "folder = os.path.basename(cwd)\n",
    "while folder != \"beam\":\n",
    "    cwd = os.path.dirname(cwd)\n",
    "    folder = os.path.basename(cwd)\n",
    "    if len(cwd) == 0:\n",
    "        print(\"Root directory was not found. Try inserting the path manually with 'sys.path.insert(0, absolute_path_to_root)'\")\n",
    "        sys.exit()\n",
    "print(\"Root directory:\", cwd)\n",
    "sys.path.insert(0, cwd)"
   ]
  },
  {
   "cell_type": "code",
   "execution_count": 2,
   "metadata": {},
   "outputs": [],
   "source": [
    "import numpy as np\n",
    "import projection as proj\n",
    "import interpolation as intp\n",
    "from mpl_toolkits import mplot3d\n",
    "import matplotlib.pyplot as plt\n",
    "from mpl_toolkits.mplot3d import axes3d\n",
    "%matplotlib ipympl"
   ]
  },
  {
   "cell_type": "code",
   "execution_count": 3,
   "metadata": {},
   "outputs": [],
   "source": [
    "X = np.array([[ -1.55897032e-01,  1.59154943e-07,  1.64154943e-01],\n",
    "              [-3.20376545e-02, 0.1,  3.00000000e-02],\n",
    "              [ 0.00000000e+00,  0.00000000e+00,  0.00000000e+00]])\n",
    "P = np.array([-0.09360382,  0,  0.        ])"
   ]
  },
  {
   "cell_type": "code",
   "execution_count": 4,
   "metadata": {},
   "outputs": [],
   "source": [
    "interpolation_d0 = lambda x: intp.lagrange_polynomial(degree=X.shape[1]-1, eval_pts=x)\n",
    "interpolation_d1 = lambda x: intp.lagrange_polynomial_derivative(degree=X.shape[1]-1, eval_pts=x)\n",
    "interpolation_d2 = lambda x: intp.lagrange_polynomial_2_derivative(degree=X.shape[1]-1, eval_pts=x)\n",
    "interpolation_d3 = lambda x: intp.lagrange_polynomial_3_derivative(degree=X.shape[1]-1, eval_pts=x)"
   ]
  },
  {
   "cell_type": "code",
   "execution_count": 5,
   "metadata": {},
   "outputs": [],
   "source": [
    "v = proj.nearest_point_projection(\n",
    "    interpolation_d0,\n",
    "    interpolation_d1,\n",
    "    interpolation_d2,\n",
    "    X, P\n",
    ")"
   ]
  },
  {
   "cell_type": "code",
   "execution_count": 6,
   "metadata": {},
   "outputs": [],
   "source": [
    "s = np.linspace(-1, 1)\n",
    "x = X[0] @ interpolation_d0(s)\n",
    "y = X[1] @ interpolation_d0(s)\n",
    "z = X[2] @ interpolation_d0(s)\n",
    "\n",
    "T = np.zeros(3)\n",
    "T[0] = X[0] @ interpolation_d0([v[-1]])\n",
    "T[1] = X[1] @ interpolation_d0([v[-1]])\n",
    "T[2] = X[2] @ interpolation_d0([v[-1]])"
   ]
  },
  {
   "cell_type": "code",
   "execution_count": 7,
   "metadata": {},
   "outputs": [
    {
     "output_type": "display_data",
     "data": {
      "text/plain": "FigureCanvasNbAgg()",
      "application/vnd.jupyter.widget-view+json": {
       "version_major": 2,
       "version_minor": 0,
       "model_id": "c2f056e1f1124b4f8c8548c521e45517"
      }
     },
     "metadata": {}
    }
   ],
   "source": [
    "fig = plt.figure()\n",
    "ax = plt.axes(projection='3d')\n",
    "\n",
    "ax.plot(x, y, z)\n",
    "ax.plot(X[0], X[1], X[2], 'o')\n",
    "ax.plot([P[0]], [P[1]], [P[2]], 'o')\n",
    "ax.plot([T[0]], [T[1]], [T[2]], 'o')\n",
    "\n",
    "plt.show()"
   ]
  },
  {
   "cell_type": "code",
   "execution_count": null,
   "metadata": {},
   "outputs": [],
   "source": []
  },
  {
   "cell_type": "code",
   "execution_count": null,
   "metadata": {},
   "outputs": [],
   "source": []
  }
 ]
}