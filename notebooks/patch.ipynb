{
 "metadata": {
  "language_info": {
   "codemirror_mode": {
    "name": "ipython",
    "version": 3
   },
   "file_extension": ".py",
   "mimetype": "text/x-python",
   "name": "python",
   "nbconvert_exporter": "python",
   "pygments_lexer": "ipython3",
   "version": "3.9.4"
  },
  "orig_nbformat": 2,
  "kernelspec": {
   "name": "python3",
   "display_name": "Python 3.9.4 64-bit ('base': conda)"
  },
  "interpreter": {
   "hash": "95ec9ec1504d83f612128e0fb229072f90bbb4cb09d9d5d93b5dd26e0ca2cfd1"
  }
 },
 "nbformat": 4,
 "nbformat_minor": 2,
 "cells": [
  {
   "cell_type": "code",
   "execution_count": 4,
   "metadata": {},
   "outputs": [],
   "source": [
    "import functools\n",
    "import numpy as np\n",
    "from beam.system import System\n",
    "from beam import mesh\n",
    "from beam import postprocessing as postproc\n",
    "import matplotlib.pyplot as plt"
   ]
  },
  {
   "cell_type": "code",
   "execution_count": 9,
   "metadata": {},
   "outputs": [],
   "source": [
    "def case():\n",
    "    \"\"\"\n",
    "    In this example, one cantilever beam is bent towards another.\n",
    "    Contact, static analysis.\n",
    "    \"\"\"\n",
    "    \n",
    "    mat = {\n",
    "        'Area':7.85398e-5,\n",
    "        'Elastic modulus':1.0e9,\n",
    "        'Shear modulus':0.3846e9,\n",
    "        'Inertia primary':4.90874e-10,\n",
    "        'Inertia secondary':4.90874e-10,\n",
    "        'Inertia torsion':9.81748e-10,\n",
    "        'Shear coefficient primary':1.0,\n",
    "        'Shear coefficient secondary':1.0,\n",
    "        'Density':8.0e-7,\n",
    "        'Contact radius':0.005\n",
    "    }\n",
    "    \n",
    "    (coordinates1, elements1) = mesh.line_mesh(A=(0,0,0), B=(2.0,0,0), n_elements=3, order=1, material=mat, reference_vector=(0,0,1))\n",
    "    (coordinates2, elements2) = mesh.line_mesh(A=(0.05,0,0.015), B=(0.85,0,0.015), n_elements=2, order=1, material=mat, reference_vector=(0,0,1),\n",
    "                                               starting_node_index=coordinates1.shape[1], possible_contact_partners=elements1,\n",
    "                                               dual_basis_functions=False, n_contact_integration_points=None)\n",
    "    \n",
    "    coordinates1[0,1] = 0.9\n",
    "    coordinates1[0,2] = 1.2\n",
    "\n",
    "    coordinates = np.hstack((coordinates1, coordinates2))\n",
    "    elements = elements1 + elements2\n",
    "    \n",
    "    system = System(coordinates, elements)\n",
    "    system.time_step = 1.0\n",
    "    system.final_time = 101.0\n",
    "    system.solver_type = 'static'\n",
    "    system.convergence_test_type = 'RES'\n",
    "    system.contact_detection = True\n",
    "    system.printing = False\n",
    "    system.max_number_of_newton_iterations = 10\n",
    "    \n",
    "    def user_distributed_force_load(self):\n",
    "        q = []\n",
    "        for ele in self.elements:\n",
    "            qe = np.zeros((6, ele.int_pts[1].n_pts))\n",
    "            p = 1.0\n",
    "            qe[2] = -p\n",
    "            q.append(qe)\n",
    "        return q\n",
    "    \n",
    "    def user_displacement_load(self):\n",
    "        n_nodes = self.get_number_of_nodes()\n",
    "        U = np.zeros((6, n_nodes))\n",
    "        if self.current_time > 1:\n",
    "            U[0,coordinates1.shape[1]] = 1.001 / 100\n",
    "        return U\n",
    "        \n",
    "    system.degrees_of_freedom[-1][0,coordinates1.shape[1]] = False  # [current time, dof 0 through 5, first node of the top beam]\n",
    "    system.degrees_of_freedom[-1][6,coordinates1.shape[1]:] = True  # [current time, dof 6, all nodes of the top beam]\n",
    "    system.degrees_of_freedom[-1][:6,:coordinates1.shape[1]] = False  # [current time, dof 0 through 5, all nodes of the bottom beam]\n",
    "    system.distributed_force_load = functools.partial(user_distributed_force_load, system)\n",
    "    system.displacement_load = functools.partial(user_displacement_load, system)\n",
    "    \n",
    "    return system"
   ]
  },
  {
   "cell_type": "code",
   "execution_count": 10,
   "metadata": {
    "tags": []
   },
   "outputs": [],
   "source": [
    "system = case()\n",
    "system.solve()"
   ]
  },
  {
   "cell_type": "code",
   "execution_count": 11,
   "metadata": {},
   "outputs": [],
   "source": [
    "gN = np.array(system.gap_function)\n",
    "gE = [0.015]\n",
    "for g in gN:\n",
    "    gE.append(np.linalg.norm(g[:,1]))"
   ]
  },
  {
   "cell_type": "code",
   "execution_count": 15,
   "metadata": {},
   "outputs": [
    {
     "output_type": "execute_result",
     "data": {
      "text/plain": [
       "Text(0, 0.5, '$g$')"
      ]
     },
     "metadata": {},
     "execution_count": 15
    },
    {
     "output_type": "display_data",
     "data": {
      "text/plain": "<Figure size 432x288 with 1 Axes>",
      "image/svg+xml": "<?xml version=\"1.0\" encoding=\"utf-8\" standalone=\"no\"?>\n<!DOCTYPE svg PUBLIC \"-//W3C//DTD SVG 1.1//EN\"\n  \"http://www.w3.org/Graphics/SVG/1.1/DTD/svg11.dtd\">\n<svg height=\"259.2pt\" version=\"1.1\" viewBox=\"0 0 403.2 259.2\" width=\"403.2pt\" xmlns=\"http://www.w3.org/2000/svg\" xmlns:xlink=\"http://www.w3.org/1999/xlink\">\n <metadata>\n  <rdf:RDF xmlns:cc=\"http://creativecommons.org/ns#\" xmlns:dc=\"http://purl.org/dc/elements/1.1/\" xmlns:rdf=\"http://www.w3.org/1999/02/22-rdf-syntax-ns#\">\n   <cc:Work>\n    <dc:type rdf:resource=\"http://purl.org/dc/dcmitype/StillImage\"/>\n    <dc:date>2021-07-06T10:33:52.698161</dc:date>\n    <dc:format>image/svg+xml</dc:format>\n    <dc:creator>\n     <cc:Agent>\n      <dc:title>Matplotlib v3.4.2, https://matplotlib.org/</dc:title>\n     </cc:Agent>\n    </dc:creator>\n   </cc:Work>\n  </rdf:RDF>\n </metadata>\n <defs>\n  <style type=\"text/css\">*{stroke-linecap:butt;stroke-linejoin:round;}</style>\n </defs>\n <g id=\"figure_1\">\n  <g id=\"patch_1\">\n   <path d=\"M 0 259.2 \nL 403.2 259.2 \nL 403.2 0 \nL 0 0 \nz\n\" style=\"fill:none;\"/>\n  </g>\n  <g id=\"axes_1\">\n   <g id=\"patch_2\">\n    <path d=\"M 78.61243 204.118773 \nL 396 204.118773 \nL 396 7.2 \nL 78.61243 7.2 \nz\n\" style=\"fill:#ffffff;\"/>\n   </g>\n   <g id=\"matplotlib.axis_1\">\n    <g id=\"xtick_1\">\n     <g id=\"line2d_1\">\n      <defs>\n       <path d=\"M 0 0 \nL 0 3.5 \n\" id=\"m98907935e0\" style=\"stroke:#000000;stroke-width:0.8;\"/>\n      </defs>\n      <g>\n       <use style=\"stroke:#000000;stroke-width:0.8;\" x=\"93.039138\" xlink:href=\"#m98907935e0\" y=\"204.118773\"/>\n      </g>\n     </g>\n     <g id=\"text_1\">\n      <!-- $\\mathdefault{0}$ -->\n      <g transform=\"translate(88.47009 225.315414)scale(0.2 -0.2)\">\n       <defs>\n        <path d=\"M 2688 2038 \nC 2688 2430 2682 3099 2413 3613 \nC 2176 4063 1798 4224 1466 4224 \nC 1158 4224 768 4082 525 3620 \nC 269 3137 243 2539 243 2038 \nC 243 1671 250 1112 448 623 \nC 723 -39 1216 -128 1466 -128 \nC 1760 -128 2208 -7 2470 604 \nC 2662 1048 2688 1568 2688 2038 \nz\nM 1466 -26 \nC 1056 -26 813 328 723 816 \nC 653 1196 653 1749 653 2109 \nC 653 2604 653 3015 736 3407 \nC 858 3954 1216 4121 1466 4121 \nC 1728 4121 2067 3947 2189 3420 \nC 2272 3054 2278 2623 2278 2109 \nC 2278 1691 2278 1176 2202 797 \nC 2067 96 1690 -26 1466 -26 \nz\n\" id=\"CMR17-30\" transform=\"scale(0.015625)\"/>\n       </defs>\n       <use transform=\"scale(0.996264)\" xlink:href=\"#CMR17-30\"/>\n      </g>\n     </g>\n    </g>\n    <g id=\"xtick_2\">\n     <g id=\"line2d_2\">\n      <g>\n       <use style=\"stroke:#000000;stroke-width:0.8;\" x=\"164.458483\" xlink:href=\"#m98907935e0\" y=\"204.118773\"/>\n      </g>\n     </g>\n     <g id=\"text_2\">\n      <!-- $\\mathdefault{25}$ -->\n      <g transform=\"translate(155.320388 225.315414)scale(0.2 -0.2)\">\n       <defs>\n        <path d=\"M 2669 990 \nL 2554 990 \nC 2490 537 2438 460 2413 422 \nC 2381 371 1920 371 1830 371 \nL 602 371 \nC 832 620 1280 1073 1824 1596 \nC 2214 1966 2669 2400 2669 3033 \nC 2669 3788 2067 4224 1395 4224 \nC 691 4224 262 3603 262 3027 \nC 262 2777 448 2745 525 2745 \nC 589 2745 781 2783 781 3007 \nC 781 3206 614 3264 525 3264 \nC 486 3264 448 3257 422 3244 \nC 544 3788 915 4057 1306 4057 \nC 1862 4057 2227 3616 2227 3033 \nC 2227 2477 1901 1998 1536 1583 \nL 262 147 \nL 262 0 \nL 2515 0 \nL 2669 990 \nz\n\" id=\"CMR17-32\" transform=\"scale(0.015625)\"/>\n        <path d=\"M 730 3750 \nC 794 3724 1056 3641 1325 3641 \nC 1920 3641 2246 3961 2432 4140 \nC 2432 4191 2432 4224 2394 4224 \nC 2387 4224 2374 4224 2323 4198 \nC 2099 4102 1837 4032 1517 4032 \nC 1325 4032 1037 4055 723 4191 \nC 653 4224 640 4224 634 4224 \nC 602 4224 595 4217 595 4090 \nL 595 2231 \nC 595 2113 595 2080 659 2080 \nC 691 2080 704 2093 736 2139 \nC 941 2435 1222 2560 1542 2560 \nC 1766 2560 2246 2415 2246 1293 \nC 2246 1087 2246 716 2054 422 \nC 1894 159 1645 25 1370 25 \nC 947 25 518 319 403 812 \nC 429 806 480 793 506 793 \nC 589 793 749 838 749 1036 \nC 749 1209 627 1280 506 1280 \nC 358 1280 262 1190 262 1011 \nC 262 454 704 -128 1382 -128 \nC 2042 -128 2669 441 2669 1267 \nC 2669 2054 2170 2662 1549 2662 \nC 1222 2662 947 2540 730 2304 \nL 730 3750 \nz\n\" id=\"CMR17-35\" transform=\"scale(0.015625)\"/>\n       </defs>\n       <use transform=\"scale(0.996264)\" xlink:href=\"#CMR17-32\"/>\n       <use transform=\"translate(45.690477 0)scale(0.996264)\" xlink:href=\"#CMR17-35\"/>\n      </g>\n     </g>\n    </g>\n    <g id=\"xtick_3\">\n     <g id=\"line2d_3\">\n      <g>\n       <use style=\"stroke:#000000;stroke-width:0.8;\" x=\"235.877828\" xlink:href=\"#m98907935e0\" y=\"204.118773\"/>\n      </g>\n     </g>\n     <g id=\"text_3\">\n      <!-- $\\mathdefault{50}$ -->\n      <g transform=\"translate(226.739733 225.315414)scale(0.2 -0.2)\">\n       <use transform=\"scale(0.996264)\" xlink:href=\"#CMR17-35\"/>\n       <use transform=\"translate(45.690477 0)scale(0.996264)\" xlink:href=\"#CMR17-30\"/>\n      </g>\n     </g>\n    </g>\n    <g id=\"xtick_4\">\n     <g id=\"line2d_4\">\n      <g>\n       <use style=\"stroke:#000000;stroke-width:0.8;\" x=\"307.297173\" xlink:href=\"#m98907935e0\" y=\"204.118773\"/>\n      </g>\n     </g>\n     <g id=\"text_4\">\n      <!-- $\\mathdefault{75}$ -->\n      <g transform=\"translate(298.159078 225.315414)scale(0.2 -0.2)\">\n       <defs>\n        <path d=\"M 2886 3955 \nL 2886 4096 \nL 1382 4096 \nC 634 4096 621 4166 595 4288 \nL 480 4288 \nL 294 3104 \nL 410 3104 \nC 429 3226 474 3552 550 3673 \nC 589 3724 1062 3724 1171 3724 \nL 2579 3724 \nL 1869 2670 \nC 1395 1961 1069 1003 1069 166 \nC 1069 89 1069 -128 1299 -128 \nC 1530 -128 1530 89 1530 172 \nL 1530 466 \nC 1530 1514 1709 2204 2003 2644 \nL 2886 3955 \nz\n\" id=\"CMR17-37\" transform=\"scale(0.015625)\"/>\n       </defs>\n       <use transform=\"scale(0.996264)\" xlink:href=\"#CMR17-37\"/>\n       <use transform=\"translate(45.690477 0)scale(0.996264)\" xlink:href=\"#CMR17-35\"/>\n      </g>\n     </g>\n    </g>\n    <g id=\"xtick_5\">\n     <g id=\"line2d_5\">\n      <g>\n       <use style=\"stroke:#000000;stroke-width:0.8;\" x=\"378.716518\" xlink:href=\"#m98907935e0\" y=\"204.118773\"/>\n      </g>\n     </g>\n     <g id=\"text_5\">\n      <!-- $\\mathdefault{100}$ -->\n      <g transform=\"translate(365.009375 225.315414)scale(0.2 -0.2)\">\n       <defs>\n        <path d=\"M 1702 4083 \nC 1702 4217 1696 4224 1606 4224 \nC 1357 3927 979 3833 621 3820 \nC 602 3820 570 3820 563 3808 \nC 557 3795 557 3782 557 3648 \nC 755 3648 1088 3686 1344 3839 \nL 1344 467 \nC 1344 243 1331 166 781 166 \nL 589 166 \nL 589 0 \nC 896 6 1216 12 1523 12 \nC 1830 12 2150 6 2458 0 \nL 2458 166 \nL 2266 166 \nC 1715 166 1702 236 1702 467 \nL 1702 4083 \nz\n\" id=\"CMR17-31\" transform=\"scale(0.015625)\"/>\n       </defs>\n       <use transform=\"scale(0.996264)\" xlink:href=\"#CMR17-31\"/>\n       <use transform=\"translate(45.690477 0)scale(0.996264)\" xlink:href=\"#CMR17-30\"/>\n       <use transform=\"translate(91.380954 0)scale(0.996264)\" xlink:href=\"#CMR17-30\"/>\n      </g>\n     </g>\n    </g>\n    <g id=\"text_6\">\n     <!-- load step -->\n     <g transform=\"translate(196.878367 247.756027)scale(0.2 -0.2)\">\n      <defs>\n       <path d=\"M 973 4672 \nL 435 4672 \nL 435 0 \nL 973 0 \nL 973 4672 \nz\n\" id=\"NimbusSanL-Regu-6c\" transform=\"scale(0.015625)\"/>\n       <path d=\"M 1741 3456 \nC 800 3456 230 2784 230 1663 \nC 230 543 794 -128 1747 -128 \nC 2688 -128 3264 543 3264 1638 \nC 3264 2791 2707 3456 1741 3456 \nz\nM 1747 2963 \nC 2349 2963 2707 2472 2707 1644 \nC 2707 861 2336 364 1747 364 \nC 1152 364 787 855 787 1663 \nC 787 2466 1152 2963 1747 2963 \nz\n\" id=\"NimbusSanL-Regu-6f\" transform=\"scale(0.015625)\"/>\n       <path d=\"M 3424 332 \nC 3366 320 3341 320 3309 320 \nC 3123 320 3021 415 3021 581 \nL 3021 2542 \nC 3021 3135 2586 3456 1760 3456 \nC 1274 3456 870 3315 646 3065 \nC 493 2893 429 2702 416 2370 \nL 954 2370 \nC 998 2778 1242 2963 1741 2963 \nC 2221 2963 2490 2784 2490 2466 \nL 2490 2326 \nC 2490 2103 2355 2007 1933 1956 \nC 1178 1861 1062 1835 858 1753 \nC 467 1593 269 1294 269 861 \nC 269 256 691 -128 1370 -128 \nC 1792 -128 2131 19 2509 364 \nC 2547 25 2714 -128 3059 -128 \nC 3168 -128 3251 -116 3424 -71 \nL 3424 332 \nz\nM 2490 1071 \nC 2490 893 2438 785 2278 638 \nC 2061 441 1798 339 1485 339 \nC 1069 339 826 536 826 874 \nC 826 1224 1062 1402 1632 1485 \nC 2195 1562 2310 1587 2490 1670 \nL 2490 1071 \nz\n\" id=\"NimbusSanL-Regu-61\" transform=\"scale(0.015625)\"/>\n       <path d=\"M 3168 4672 \nL 2637 4672 \nL 2637 2937 \nC 2413 3276 2054 3456 1606 3456 \nC 736 3456 166 2759 166 1695 \nC 166 568 723 -128 1626 -128 \nC 2086 -128 2406 44 2694 460 \nL 2694 19 \nL 3168 19 \nL 3168 4672 \nz\nM 1696 2956 \nC 2272 2956 2637 2447 2637 1651 \nC 2637 880 2266 371 1702 371 \nC 1114 371 723 887 723 1663 \nC 723 2440 1114 2956 1696 2956 \nz\n\" id=\"NimbusSanL-Regu-64\" transform=\"scale(0.015625)\"/>\n       <path d=\"M 2803 2428 \nC 2797 3084 2362 3456 1587 3456 \nC 806 3456 301 3052 301 2434 \nC 301 1912 570 1663 1363 1472 \nL 1862 1351 \nC 2234 1262 2381 1129 2381 887 \nC 2381 574 2067 364 1600 364 \nC 1312 364 1069 447 934 587 \nC 851 683 813 778 781 1014 \nL 218 1014 \nC 243 243 678 -128 1555 -128 \nC 2400 -128 2938 288 2938 931 \nC 2938 1428 2656 1702 1990 1861 \nL 1478 1982 \nC 1043 2084 858 2224 858 2459 \nC 858 2765 1133 2963 1568 2963 \nC 1997 2963 2227 2778 2240 2428 \nL 2803 2428 \nz\n\" id=\"NimbusSanL-Regu-73\" transform=\"scale(0.015625)\"/>\n       <path d=\"M 1626 3328 \nL 1075 3328 \nL 1075 4249 \nL 544 4249 \nL 544 3328 \nL 90 3328 \nL 90 2892 \nL 544 2892 \nL 544 402 \nC 544 64 774 -128 1190 -128 \nC 1318 -128 1446 -116 1626 -84 \nL 1626 364 \nC 1555 345 1472 339 1370 339 \nC 1139 339 1075 402 1075 634 \nL 1075 2892 \nL 1626 2892 \nL 1626 3328 \nz\n\" id=\"NimbusSanL-Regu-74\" transform=\"scale(0.015625)\"/>\n       <path d=\"M 3283 1484 \nC 3283 1998 3245 2311 3149 2565 \nC 2931 3123 2419 3456 1792 3456 \nC 858 3456 256 2734 256 1619 \nC 256 545 838 -128 1779 -128 \nC 2547 -128 3078 307 3213 1018 \nL 2675 1018 \nC 2528 588 2227 364 1798 364 \nC 1459 364 1171 514 992 787 \nC 864 974 819 1161 813 1484 \nL 3283 1484 \nz\nM 826 1920 \nC 870 2552 1248 2963 1786 2963 \nC 2310 2963 2714 2519 2714 1959 \nC 2714 1946 2714 1933 2707 1920 \nL 826 1920 \nz\n\" id=\"NimbusSanL-Regu-65\" transform=\"scale(0.015625)\"/>\n       <path d=\"M 346 -1408 \nL 883 -1408 \nL 883 371 \nC 1165 25 1478 -128 1914 -128 \nC 2778 -128 3347 568 3347 1632 \nC 3347 2752 2797 3456 1907 3456 \nC 1453 3456 1088 3251 838 2854 \nL 838 3359 \nL 346 3359 \nL 346 -1408 \nz\nM 1818 2956 \nC 2406 2956 2790 2440 2790 1644 \nC 2790 887 2400 371 1818 371 \nC 1254 371 883 880 883 1663 \nC 883 2447 1254 2956 1818 2956 \nz\n\" id=\"NimbusSanL-Regu-70\" transform=\"scale(0.015625)\"/>\n      </defs>\n      <use transform=\"scale(0.996264)\" xlink:href=\"#NimbusSanL-Regu-6c\"/>\n      <use transform=\"translate(22.116784 0)scale(0.996264)\" xlink:href=\"#NimbusSanL-Regu-6f\"/>\n      <use transform=\"translate(77.508461 0)scale(0.996264)\" xlink:href=\"#NimbusSanL-Regu-61\"/>\n      <use transform=\"translate(132.900138 0)scale(0.996264)\" xlink:href=\"#NimbusSanL-Regu-64\"/>\n      <use transform=\"translate(215.986985 0)scale(0.996264)\" xlink:href=\"#NimbusSanL-Regu-73\"/>\n      <use transform=\"translate(265.800185 0)scale(0.996264)\" xlink:href=\"#NimbusSanL-Regu-74\"/>\n      <use transform=\"translate(293.495355 0)scale(0.996264)\" xlink:href=\"#NimbusSanL-Regu-65\"/>\n      <use transform=\"translate(348.887032 0)scale(0.996264)\" xlink:href=\"#NimbusSanL-Regu-70\"/>\n     </g>\n    </g>\n   </g>\n   <g id=\"matplotlib.axis_2\">\n    <g id=\"ytick_1\">\n     <g id=\"line2d_6\">\n      <defs>\n       <path d=\"M 0 0 \nL -3.5 0 \n\" id=\"m54051eeae5\" style=\"stroke:#000000;stroke-width:0.8;\"/>\n      </defs>\n      <g>\n       <use style=\"stroke:#000000;stroke-width:0.8;\" x=\"78.61243\" xlink:href=\"#m54051eeae5\" y=\"195.16792\"/>\n      </g>\n     </g>\n     <g id=\"text_7\">\n      <!-- $\\mathdefault{0.000}$ -->\n      <g transform=\"translate(29.640613 202.26624)scale(0.2 -0.2)\">\n       <defs>\n        <path d=\"M 1178 307 \nC 1178 492 1024 620 870 620 \nC 685 620 557 467 557 313 \nC 557 128 710 0 864 0 \nC 1050 0 1178 153 1178 307 \nz\n\" id=\"CMMI12-3a\" transform=\"scale(0.015625)\"/>\n       </defs>\n       <use transform=\"scale(0.996264)\" xlink:href=\"#CMR17-30\"/>\n       <use transform=\"translate(45.690477 0)scale(0.996264)\" xlink:href=\"#CMMI12-3a\"/>\n       <use transform=\"translate(72.787654 0)scale(0.996264)\" xlink:href=\"#CMR17-30\"/>\n       <use transform=\"translate(118.478131 0)scale(0.996264)\" xlink:href=\"#CMR17-30\"/>\n       <use transform=\"translate(164.168608 0)scale(0.996264)\" xlink:href=\"#CMR17-30\"/>\n      </g>\n     </g>\n    </g>\n    <g id=\"ytick_2\">\n     <g id=\"line2d_7\">\n      <g>\n       <use style=\"stroke:#000000;stroke-width:0.8;\" x=\"78.61243\" xlink:href=\"#m54051eeae5\" y=\"135.495564\"/>\n      </g>\n     </g>\n     <g id=\"text_8\">\n      <!-- $\\mathdefault{0.005}$ -->\n      <g transform=\"translate(29.640613 142.593885)scale(0.2 -0.2)\">\n       <use transform=\"scale(0.996264)\" xlink:href=\"#CMR17-30\"/>\n       <use transform=\"translate(45.690477 0)scale(0.996264)\" xlink:href=\"#CMMI12-3a\"/>\n       <use transform=\"translate(72.787654 0)scale(0.996264)\" xlink:href=\"#CMR17-30\"/>\n       <use transform=\"translate(118.478131 0)scale(0.996264)\" xlink:href=\"#CMR17-30\"/>\n       <use transform=\"translate(164.168608 0)scale(0.996264)\" xlink:href=\"#CMR17-35\"/>\n      </g>\n     </g>\n    </g>\n    <g id=\"ytick_3\">\n     <g id=\"line2d_8\">\n      <g>\n       <use style=\"stroke:#000000;stroke-width:0.8;\" x=\"78.61243\" xlink:href=\"#m54051eeae5\" y=\"75.823209\"/>\n      </g>\n     </g>\n     <g id=\"text_9\">\n      <!-- $\\mathdefault{0.010}$ -->\n      <g transform=\"translate(29.640613 82.921529)scale(0.2 -0.2)\">\n       <use transform=\"scale(0.996264)\" xlink:href=\"#CMR17-30\"/>\n       <use transform=\"translate(45.690477 0)scale(0.996264)\" xlink:href=\"#CMMI12-3a\"/>\n       <use transform=\"translate(72.787654 0)scale(0.996264)\" xlink:href=\"#CMR17-30\"/>\n       <use transform=\"translate(118.478131 0)scale(0.996264)\" xlink:href=\"#CMR17-31\"/>\n       <use transform=\"translate(164.168608 0)scale(0.996264)\" xlink:href=\"#CMR17-30\"/>\n      </g>\n     </g>\n    </g>\n    <g id=\"ytick_4\">\n     <g id=\"line2d_9\">\n      <g>\n       <use style=\"stroke:#000000;stroke-width:0.8;\" x=\"78.61243\" xlink:href=\"#m54051eeae5\" y=\"16.150853\"/>\n      </g>\n     </g>\n     <g id=\"text_10\">\n      <!-- $\\mathdefault{0.015}$ -->\n      <g transform=\"translate(29.640613 23.249174)scale(0.2 -0.2)\">\n       <use transform=\"scale(0.996264)\" xlink:href=\"#CMR17-30\"/>\n       <use transform=\"translate(45.690477 0)scale(0.996264)\" xlink:href=\"#CMMI12-3a\"/>\n       <use transform=\"translate(72.787654 0)scale(0.996264)\" xlink:href=\"#CMR17-30\"/>\n       <use transform=\"translate(118.478131 0)scale(0.996264)\" xlink:href=\"#CMR17-31\"/>\n       <use transform=\"translate(164.168608 0)scale(0.996264)\" xlink:href=\"#CMR17-35\"/>\n      </g>\n     </g>\n    </g>\n    <g id=\"text_11\">\n     <!-- $g$ -->\n     <g transform=\"translate(21.396641 110.330476)rotate(-90)scale(0.2 -0.2)\">\n      <defs>\n       <path d=\"M 2163 811 \nC 2138 708 2125 683 2042 587 \nC 1779 249 1510 128 1312 128 \nC 1101 128 902 293 902 734 \nC 902 1072 1094 1787 1235 2075 \nC 1421 2432 1709 2687 1978 2687 \nC 2400 2687 2483 2164 2483 2126 \nL 2464 2036 \nL 2163 811 \nz\nM 2560 2394 \nC 2477 2579 2298 2816 1978 2816 \nC 1280 2816 486 1941 486 989 \nC 486 325 890 0 1299 0 \nC 1638 0 1939 268 2054 396 \nL 1914 -176 \nC 1824 -520 1786 -677 1555 -896 \nC 1293 -1152 1050 -1152 909 -1152 \nC 717 -1152 557 -1140 397 -1090 \nC 602 -1034 653 -858 653 -789 \nC 653 -689 576 -589 435 -589 \nC 282 -589 115 -714 115 -921 \nC 115 -1178 378 -1280 922 -1280 \nC 1747 -1280 2176 -758 2259 -420 \nL 2970 2426 \nC 2989 2502 2989 2515 2989 2528 \nC 2989 2617 2918 2688 2822 2688 \nC 2669 2688 2579 2560 2560 2388 \nL 2560 2394 \nz\n\" id=\"CMMI12-67\" transform=\"scale(0.015625)\"/>\n      </defs>\n      <use transform=\"scale(0.996264)\" xlink:href=\"#CMMI12-67\"/>\n     </g>\n    </g>\n   </g>\n   <g id=\"line2d_10\">\n    <path clip-path=\"url(#p5f9d003cc5)\" d=\"M 93.039138 16.150853 \nL 95.895912 75.823209 \nL 98.752686 195.16792 \nL 101.60946 195.16792 \nL 104.466233 195.16792 \nL 107.323007 195.16792 \nL 110.179781 195.16792 \nL 113.036555 195.16792 \nL 115.893329 195.16792 \nL 118.750102 195.16792 \nL 121.606876 195.16792 \nL 124.46365 195.16792 \nL 127.320424 195.16792 \nL 130.177198 195.16792 \nL 133.033971 195.16792 \nL 135.890745 195.16792 \nL 138.747519 195.16792 \nL 141.604293 195.16792 \nL 144.461067 195.16792 \nL 147.31784 195.16792 \nL 150.174614 195.16792 \nL 153.031388 195.16792 \nL 155.888162 195.16792 \nL 158.744936 195.16792 \nL 161.601709 195.16792 \nL 164.458483 195.16792 \nL 167.315257 195.16792 \nL 170.172031 195.16792 \nL 173.028805 195.16792 \nL 175.885578 195.16792 \nL 178.742352 195.16792 \nL 181.599126 195.16792 \nL 184.4559 195.16792 \nL 187.312674 195.16792 \nL 190.169447 195.16792 \nL 193.026221 195.16792 \nL 195.882995 195.16792 \nL 198.739769 195.16792 \nL 201.596543 195.16792 \nL 204.453316 195.16792 \nL 207.31009 195.16792 \nL 210.166864 195.16792 \nL 213.023638 195.16792 \nL 215.880412 195.16792 \nL 218.737185 195.16792 \nL 221.593959 195.16792 \nL 224.450733 195.16792 \nL 227.307507 195.16792 \nL 230.164281 195.16792 \nL 233.021055 195.16792 \nL 235.877828 195.16792 \nL 238.734602 195.16792 \nL 241.591376 195.16792 \nL 244.44815 195.16792 \nL 247.304924 195.16792 \nL 250.161697 195.16792 \nL 253.018471 195.16792 \nL 255.875245 195.16792 \nL 258.732019 195.16792 \nL 261.588793 195.16792 \nL 264.445566 195.16792 \nL 267.30234 195.16792 \nL 270.159114 195.16792 \nL 273.015888 195.16792 \nL 275.872662 195.16792 \nL 278.729435 195.16792 \nL 281.586209 195.16792 \nL 284.442983 195.16792 \nL 287.299757 195.16792 \nL 290.156531 195.16792 \nL 293.013304 195.16792 \nL 295.870078 195.16792 \nL 298.726852 195.16792 \nL 301.583626 195.16792 \nL 304.4404 195.16792 \nL 307.297173 195.16792 \nL 310.153947 195.16792 \nL 313.010721 195.16792 \nL 315.867495 195.16792 \nL 318.724269 195.16792 \nL 321.581042 195.16792 \nL 324.437816 195.16792 \nL 327.29459 195.16792 \nL 330.151364 195.16792 \nL 333.008138 195.16792 \nL 335.864911 195.16792 \nL 338.721685 195.16792 \nL 341.578459 195.16792 \nL 344.435233 195.16792 \nL 347.292007 195.16792 \nL 350.14878 195.16792 \nL 353.005554 195.16792 \nL 355.862328 195.16792 \nL 358.719102 195.16792 \nL 361.575876 195.16792 \nL 364.432649 195.16792 \nL 367.289423 195.16792 \nL 370.146197 195.16792 \nL 373.002971 195.16792 \nL 375.859745 195.16792 \nL 378.716518 195.16792 \nL 381.573292 195.16792 \n\" style=\"fill:none;stroke:#1f77b4;stroke-linecap:square;stroke-width:1.5;\"/>\n   </g>\n   <g id=\"patch_3\">\n    <path d=\"M 78.61243 204.118773 \nL 78.61243 7.2 \n\" style=\"fill:none;stroke:#000000;stroke-linecap:square;stroke-linejoin:miter;stroke-width:0.8;\"/>\n   </g>\n   <g id=\"patch_4\">\n    <path d=\"M 396 204.118773 \nL 396 7.2 \n\" style=\"fill:none;stroke:#000000;stroke-linecap:square;stroke-linejoin:miter;stroke-width:0.8;\"/>\n   </g>\n   <g id=\"patch_5\">\n    <path d=\"M 78.61243 204.118773 \nL 396 204.118773 \n\" style=\"fill:none;stroke:#000000;stroke-linecap:square;stroke-linejoin:miter;stroke-width:0.8;\"/>\n   </g>\n   <g id=\"patch_6\">\n    <path d=\"M 78.61243 7.2 \nL 396 7.2 \n\" style=\"fill:none;stroke:#000000;stroke-linecap:square;stroke-linejoin:miter;stroke-width:0.8;\"/>\n   </g>\n  </g>\n </g>\n <defs>\n  <clipPath id=\"p5f9d003cc5\">\n   <rect height=\"196.918773\" width=\"317.38757\" x=\"78.61243\" y=\"7.2\"/>\n  </clipPath>\n </defs>\n</svg>\n",
      "image/png": "[encoded data removed]"
     },
     "metadata": {
      "needs_background": "light"
     }
    }
   ],
   "source": [
    "plt.rcParams.update({\n",
    "    \"text.usetex\": True,\n",
    "    \"font.family\": \"sans-serif\",\n",
    "    \"font.sans-serif\": [\"Helvetica\"],\n",
    "    \"font.size\": 20\n",
    "})\n",
    "fig = plt.figure(tight_layout=True)\n",
    "ax = fig.add_subplot(111)\n",
    "ax.plot(gE)\n",
    "ax.set_xlabel('load step')\n",
    "ax.set_ylabel(\"$g$\")\n",
    "#fig.savefig(\"img1.pdf\", bbox_inches='tight')"
   ]
  },
  {
   "cell_type": "code",
   "execution_count": null,
   "metadata": {},
   "outputs": [],
   "source": []
  }
 ]
}