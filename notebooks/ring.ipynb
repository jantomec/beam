{
 "metadata": {
  "language_info": {
   "codemirror_mode": {
    "name": "ipython",
    "version": 3
   },
   "file_extension": ".py",
   "mimetype": "text/x-python",
   "name": "python",
   "nbconvert_exporter": "python",
   "pygments_lexer": "ipython3",
   "version": "3.9.4"
  },
  "orig_nbformat": 2,
  "kernelspec": {
   "name": "python3",
   "display_name": "Python 3.9.4 64-bit ('base': conda)"
  },
  "interpreter": {
   "hash": "95ec9ec1504d83f612128e0fb229072f90bbb4cb09d9d5d93b5dd26e0ca2cfd1"
  }
 },
 "nbformat": 4,
 "nbformat_minor": 2,
 "cells": [
  {
   "cell_type": "code",
   "execution_count": 1,
   "metadata": {},
   "outputs": [],
   "source": [
    "%matplotlib widget"
   ]
  },
  {
   "cell_type": "code",
   "execution_count": 2,
   "metadata": {},
   "outputs": [],
   "source": [
    "import os\n",
    "import sys\n",
    "\n",
    "cwd = os.getcwd()\n",
    "folder = os.path.basename(cwd)\n",
    "while folder != \"beam\":\n",
    "    cwd = os.path.dirname(cwd)\n",
    "    folder = os.path.basename(cwd)\n",
    "    if len(cwd) == 0:\n",
    "        print(\"Root directory was not found. Try inserting the path manually with 'sys.path.insert(0, absolute_path_to_root)'\")\n",
    "        sys.exit()\n",
    "sys.path.insert(0, cwd)\n",
    "\n",
    "import functools\n",
    "import numpy as np\n",
    "from system import System\n",
    "import mesh\n",
    "import postprocessing as postproc\n",
    "import matplotlib.pyplot as plt"
   ]
  },
  {
   "cell_type": "code",
   "execution_count": 3,
   "metadata": {},
   "outputs": [
    {
     "output_type": "stream",
     "name": "stdout",
     "text": [
      "Root directory: /Users/jantomec/OneDrive - Sveučilište u Rijeci/THREAD/beam\n"
     ]
    }
   ],
   "source": [
    "from beam_tests import test_ring"
   ]
  },
  {
   "cell_type": "code",
   "execution_count": 6,
   "metadata": {},
   "outputs": [],
   "source": [
    "def case(nel):\n",
    "    \"\"\"\n",
    "    In this example, a ring is twisted. A ring is clamped at some point\n",
    "    and a twisting moment is applied at the opposite point.\n",
    "    Contact, static analysis.\n",
    "    \"\"\"\n",
    "    \n",
    "    mat = {\n",
    "        'EA':2.76461e3,\n",
    "        'GA1':1.03924e3,\n",
    "        'GA2':1.03924e3,\n",
    "        'GIt':2078.5,\n",
    "        'EI1':2764.52,\n",
    "        'EI2':2764.52,\n",
    "        'Arho':1.0,\n",
    "        'I12rho':1.0,\n",
    "        'I1rho':1.0,\n",
    "        'I2rho':1.0,\n",
    "        'Contact radius':0.02 * 2 * np.pi\n",
    "    }\n",
    "\n",
    "    (coordinates, elements) = mesh.circle_mesh(\n",
    "        R=1, n_elements=nel, order=2, material=mat,\n",
    "        reference_vector=np.array([0,0,1]), plane=(0,1),\n",
    "        starting_node_index=0\n",
    "    )\n",
    "\n",
    "    exclude_range = 1\n",
    "\n",
    "    for i in range(len(elements)):\n",
    "        mortar_elements = elements.copy()\n",
    "        exclude_indices = []\n",
    "        for j in range(-exclude_range, exclude_range+1):\n",
    "            exclude_indices.append((i+j)%len(elements))\n",
    "        exclude_indices.sort(reverse=True)\n",
    "        for j in exclude_indices:\n",
    "            mortar_elements.pop(j)\n",
    "\n",
    "        mesh.add_mortar_element(\n",
    "            [elements[i]],\n",
    "            possible_contact_partners=mortar_elements.copy(),\n",
    "            n_contact_integration_points=10\n",
    "        )\n",
    "\n",
    "    system = System(coordinates, elements)\n",
    "    system.time_step = 1.0\n",
    "    system.max_number_of_time_steps = 1000\n",
    "    system.max_number_of_contact_iterations = 10\n",
    "    system.final_time = 14.0\n",
    "    system.solver_type = 'static'\n",
    "    system.convergence_test_type = 'RES'\n",
    "    system.contact_detection = True\n",
    "    system.print_residual = True\n",
    "    system.tolerance = 1e-6\n",
    "    system.printing = False\n",
    "    \n",
    "    def user_force_load(self):\n",
    "        n_nodes = self.get_number_of_nodes()\n",
    "        Q = np.zeros((6, n_nodes))\n",
    "        if self.current_time < 9:\n",
    "            Q[3,n_nodes//2] = 700*self.current_time\n",
    "        else:\n",
    "            Q[3,n_nodes//2] = 700*9 + 70*(self.current_time - 9)\n",
    "        return Q\n",
    "    \n",
    "    system.degrees_of_freedom[-1][:6,0] = False  # [current time, dof 0 through 5, first node of the first beam]\n",
    "    system.degrees_of_freedom[-1][6,:] = False\n",
    "    system.force_load = functools.partial(user_force_load, system)\n",
    "    \n",
    "    return system"
   ]
  },
  {
   "cell_type": "code",
   "execution_count": 7,
   "metadata": {
    "tags": []
   },
   "outputs": [],
   "source": [
    "system1 = case(8)\n",
    "system1.solve()"
   ]
  },
  {
   "cell_type": "code",
   "execution_count": null,
   "metadata": {},
   "outputs": [],
   "source": [
    "system2 = case(32)\n",
    "system2.solve()"
   ]
  },
  {
   "cell_type": "code",
   "execution_count": 8,
   "metadata": {},
   "outputs": [
    {
     "output_type": "display_data",
     "data": {
      "text/plain": "Canvas(toolbar=Toolbar(toolitems=[('Home', 'Reset original view', 'home', 'home'), ('Back', 'Back to previous …",
      "application/vnd.jupyter.widget-view+json": {
       "version_major": 2,
       "version_minor": 0,
       "model_id": "4bbf433c456840bca2d8bc64028c28b4"
      }
     },
     "metadata": {}
    }
   ],
   "source": [
    "postproc.line_plot(system1, (-1,1), (-1,1), (-1,1), 14)"
   ]
  },
  {
   "cell_type": "code",
   "execution_count": 9,
   "metadata": {},
   "outputs": [
    {
     "output_type": "display_data",
     "data": {
      "text/plain": "Canvas(toolbar=Toolbar(toolitems=[('Home', 'Reset original view', 'home', 'home'), ('Back', 'Back to previous …",
      "application/vnd.jupyter.widget-view+json": {
       "version_major": 2,
       "version_minor": 0,
       "model_id": "06a7619aac8b4851aba5f2e57ea00c31"
      }
     },
     "metadata": {}
    },
    {
     "output_type": "error",
     "ename": "NameError",
     "evalue": "name 'system2' is not defined",
     "traceback": [
      "\u001b[0;31m---------------------------------------------------------------------------\u001b[0m",
      "\u001b[0;31mNameError\u001b[0m                                 Traceback (most recent call last)",
      "\u001b[0;32m<ipython-input-9-51e49921409d>\u001b[0m in \u001b[0;36m<module>\u001b[0;34m\u001b[0m\n\u001b[1;32m      8\u001b[0m \u001b[0max\u001b[0m \u001b[0;34m=\u001b[0m \u001b[0mplt\u001b[0m\u001b[0;34m.\u001b[0m\u001b[0maxes\u001b[0m\u001b[0;34m(\u001b[0m\u001b[0;34m)\u001b[0m\u001b[0;34m\u001b[0m\u001b[0;34m\u001b[0m\u001b[0m\n\u001b[1;32m      9\u001b[0m \u001b[0max\u001b[0m\u001b[0;34m.\u001b[0m\u001b[0mplot\u001b[0m\u001b[0;34m(\u001b[0m\u001b[0;34m*\u001b[0m\u001b[0msystem1\u001b[0m\u001b[0;34m.\u001b[0m\u001b[0mcontact_force_function\u001b[0m\u001b[0;34m(\u001b[0m\u001b[0;34m-\u001b[0m\u001b[0;36m1\u001b[0m\u001b[0;34m)\u001b[0m\u001b[0;34m.\u001b[0m\u001b[0mT\u001b[0m\u001b[0;34m,\u001b[0m \u001b[0mlabel\u001b[0m\u001b[0;34m=\u001b[0m\u001b[0;34m'8 elements'\u001b[0m\u001b[0;34m,\u001b[0m \u001b[0mlinewidth\u001b[0m\u001b[0;34m=\u001b[0m\u001b[0;36m3.0\u001b[0m\u001b[0;34m)\u001b[0m\u001b[0;34m\u001b[0m\u001b[0;34m\u001b[0m\u001b[0m\n\u001b[0;32m---> 10\u001b[0;31m \u001b[0max\u001b[0m\u001b[0;34m.\u001b[0m\u001b[0mplot\u001b[0m\u001b[0;34m(\u001b[0m\u001b[0;34m*\u001b[0m\u001b[0msystem2\u001b[0m\u001b[0;34m.\u001b[0m\u001b[0mcontact_force_function\u001b[0m\u001b[0;34m(\u001b[0m\u001b[0;34m-\u001b[0m\u001b[0;36m1\u001b[0m\u001b[0;34m)\u001b[0m\u001b[0;34m.\u001b[0m\u001b[0mT\u001b[0m\u001b[0;34m,\u001b[0m \u001b[0mlabel\u001b[0m\u001b[0;34m=\u001b[0m\u001b[0;34m'32 elements'\u001b[0m\u001b[0;34m,\u001b[0m \u001b[0mlinewidth\u001b[0m\u001b[0;34m=\u001b[0m\u001b[0;36m3.0\u001b[0m\u001b[0;34m)\u001b[0m\u001b[0;34m\u001b[0m\u001b[0;34m\u001b[0m\u001b[0m\n\u001b[0m\u001b[1;32m     11\u001b[0m \u001b[0max\u001b[0m\u001b[0;34m.\u001b[0m\u001b[0mset_xlim\u001b[0m\u001b[0;34m(\u001b[0m\u001b[0;34m(\u001b[0m\u001b[0;36m0\u001b[0m\u001b[0;34m,\u001b[0m\u001b[0;36m2\u001b[0m\u001b[0;34m*\u001b[0m\u001b[0mnp\u001b[0m\u001b[0;34m.\u001b[0m\u001b[0mpi\u001b[0m\u001b[0;34m)\u001b[0m\u001b[0;34m)\u001b[0m\u001b[0;34m\u001b[0m\u001b[0;34m\u001b[0m\u001b[0m\n\u001b[1;32m     12\u001b[0m \u001b[0max\u001b[0m\u001b[0;34m.\u001b[0m\u001b[0mset_xlabel\u001b[0m\u001b[0;34m(\u001b[0m\u001b[0;34m's'\u001b[0m\u001b[0;34m)\u001b[0m\u001b[0;34m\u001b[0m\u001b[0;34m\u001b[0m\u001b[0m\n",
      "\u001b[0;31mNameError\u001b[0m: name 'system2' is not defined"
     ]
    }
   ],
   "source": [
    "plt.rcParams.update({\n",
    "    \"text.usetex\": True,\n",
    "    \"font.family\": \"sans-serif\",\n",
    "    \"font.sans-serif\": [\"Helvetica\"],\n",
    "    \"font.size\": 20\n",
    "})\n",
    "fig = plt.figure(figsize=(6,5), tight_layout=True)\n",
    "ax = plt.axes()\n",
    "ax.plot(*system1.contact_force_function(-1).T, label='8 elements', linewidth=3.0)\n",
    "ax.plot(*system2.contact_force_function(-1).T, label='32 elements', linewidth=3.0)\n",
    "ax.set_xlim((0,2*np.pi))\n",
    "ax.set_xlabel('s')\n",
    "ax.set_ylabel('$\\lambda$')\n",
    "plt.legend()\n",
    "# plt.savefig(\"force.pdf\", bbox_inches='tight')"
   ]
  },
  {
   "cell_type": "code",
   "execution_count": 10,
   "metadata": {},
   "outputs": [
    {
     "output_type": "display_data",
     "data": {
      "text/plain": "Canvas(toolbar=Toolbar(toolitems=[('Home', 'Reset original view', 'home', 'home'), ('Back', 'Back to previous …",
      "application/vnd.jupyter.widget-view+json": {
       "version_major": 2,
       "version_minor": 0,
       "model_id": "e059a792c7864e02b0784f88b545c626"
      }
     },
     "metadata": {}
    },
    {
     "output_type": "error",
     "ename": "NameError",
     "evalue": "name 'system2' is not defined",
     "traceback": [
      "\u001b[0;31m---------------------------------------------------------------------------\u001b[0m",
      "\u001b[0;31mNameError\u001b[0m                                 Traceback (most recent call last)",
      "\u001b[0;32m<ipython-input-10-7dc63ed69389>\u001b[0m in \u001b[0;36m<module>\u001b[0;34m\u001b[0m\n\u001b[1;32m      8\u001b[0m \u001b[0max\u001b[0m \u001b[0;34m=\u001b[0m \u001b[0mplt\u001b[0m\u001b[0;34m.\u001b[0m\u001b[0maxes\u001b[0m\u001b[0;34m(\u001b[0m\u001b[0;34m)\u001b[0m\u001b[0;34m\u001b[0m\u001b[0;34m\u001b[0m\u001b[0m\n\u001b[1;32m      9\u001b[0m \u001b[0max\u001b[0m\u001b[0;34m.\u001b[0m\u001b[0mscatter\u001b[0m\u001b[0;34m(\u001b[0m\u001b[0;34m*\u001b[0m\u001b[0msystem1\u001b[0m\u001b[0;34m.\u001b[0m\u001b[0mgap_function\u001b[0m\u001b[0;34m[\u001b[0m\u001b[0;34m-\u001b[0m\u001b[0;36m1\u001b[0m\u001b[0;34m]\u001b[0m\u001b[0;34m.\u001b[0m\u001b[0mT\u001b[0m\u001b[0;34m,\u001b[0m \u001b[0mmarker\u001b[0m\u001b[0;34m=\u001b[0m\u001b[0;34m'.'\u001b[0m\u001b[0;34m,\u001b[0m \u001b[0ms\u001b[0m\u001b[0;34m=\u001b[0m\u001b[0;36m100\u001b[0m\u001b[0;34m,\u001b[0m \u001b[0mlabel\u001b[0m\u001b[0;34m=\u001b[0m\u001b[0;34m'8 elements'\u001b[0m\u001b[0;34m)\u001b[0m\u001b[0;34m\u001b[0m\u001b[0;34m\u001b[0m\u001b[0m\n\u001b[0;32m---> 10\u001b[0;31m \u001b[0max\u001b[0m\u001b[0;34m.\u001b[0m\u001b[0mscatter\u001b[0m\u001b[0;34m(\u001b[0m\u001b[0;34m*\u001b[0m\u001b[0msystem2\u001b[0m\u001b[0;34m.\u001b[0m\u001b[0mgap_function\u001b[0m\u001b[0;34m[\u001b[0m\u001b[0;34m-\u001b[0m\u001b[0;36m1\u001b[0m\u001b[0;34m]\u001b[0m\u001b[0;34m.\u001b[0m\u001b[0mT\u001b[0m\u001b[0;34m,\u001b[0m \u001b[0mmarker\u001b[0m\u001b[0;34m=\u001b[0m\u001b[0;34m'.'\u001b[0m\u001b[0;34m,\u001b[0m \u001b[0ms\u001b[0m\u001b[0;34m=\u001b[0m\u001b[0;36m100\u001b[0m\u001b[0;34m,\u001b[0m \u001b[0mlabel\u001b[0m\u001b[0;34m=\u001b[0m\u001b[0;34m'32 elements'\u001b[0m\u001b[0;34m)\u001b[0m\u001b[0;34m\u001b[0m\u001b[0;34m\u001b[0m\u001b[0m\n\u001b[0m\u001b[1;32m     11\u001b[0m \u001b[0max\u001b[0m\u001b[0;34m.\u001b[0m\u001b[0mset_xlim\u001b[0m\u001b[0;34m(\u001b[0m\u001b[0;34m(\u001b[0m\u001b[0;36m0\u001b[0m\u001b[0;34m,\u001b[0m\u001b[0;36m2\u001b[0m\u001b[0;34m*\u001b[0m\u001b[0mnp\u001b[0m\u001b[0;34m.\u001b[0m\u001b[0mpi\u001b[0m\u001b[0;34m)\u001b[0m\u001b[0;34m)\u001b[0m\u001b[0;34m\u001b[0m\u001b[0;34m\u001b[0m\u001b[0m\n\u001b[1;32m     12\u001b[0m \u001b[0max\u001b[0m\u001b[0;34m.\u001b[0m\u001b[0mset_xlabel\u001b[0m\u001b[0;34m(\u001b[0m\u001b[0;34m's'\u001b[0m\u001b[0;34m)\u001b[0m\u001b[0;34m\u001b[0m\u001b[0;34m\u001b[0m\u001b[0m\n",
      "\u001b[0;31mNameError\u001b[0m: name 'system2' is not defined"
     ]
    }
   ],
   "source": [
    "plt.rcParams.update({\n",
    "    \"text.usetex\": True,\n",
    "    \"font.family\": \"sans-serif\",\n",
    "    \"font.sans-serif\": [\"Helvetica\"],\n",
    "    \"font.size\": 20\n",
    "})\n",
    "fig = plt.figure(figsize=(6,5), tight_layout=True)\n",
    "ax = plt.axes()\n",
    "ax.scatter(*system1.gap_function[-1].T, marker='.', s=100, label='8 elements')\n",
    "ax.scatter(*system2.gap_function[-1].T, marker='.', s=100, label='32 elements')\n",
    "ax.set_xlim((0,2*np.pi))\n",
    "ax.set_xlabel('s')\n",
    "ax.set_ylabel('g')\n",
    "plt.legend()\n",
    "# plt.savefig(\"gap.pdf\", bbox_inches='tight')"
   ]
  },
  {
   "cell_type": "code",
   "execution_count": 11,
   "metadata": {},
   "outputs": [],
   "source": [
    "def case2(nel):\n",
    "    \"\"\"\n",
    "    In this example, a ring is twisted. A ring is clamped at some point\n",
    "    and a twisting moment is applied at the opposite point.\n",
    "    Contact, static analysis.\n",
    "    \"\"\"\n",
    "    \n",
    "    mat = {\n",
    "        'EA':2.76461e3,\n",
    "        'GA1':1.03924e3,\n",
    "        'GA2':1.03924e3,\n",
    "        'GIt':2078.5,\n",
    "        'EI1':2764.52,\n",
    "        'EI2':2764.52,\n",
    "        'Arho':1.0,\n",
    "        'I12rho':1.0,\n",
    "        'I1rho':1.0,\n",
    "        'I2rho':1.0,\n",
    "        'Contact radius':0.02 * 2 * np.pi\n",
    "    }\n",
    "\n",
    "    (coordinates, elements) = mesh.circle_mesh(\n",
    "        R=1, n_elements=nel, order=2, material=mat,\n",
    "        reference_vector=np.array([0,0,1]), plane=(0,1),\n",
    "        starting_node_index=0\n",
    "    )\n",
    "\n",
    "    exclude_range = 1\n",
    "\n",
    "    for i in range(len(elements)//2):\n",
    "        mortar_elements = elements.copy()\n",
    "        exclude_indices = []\n",
    "        for j in range(-exclude_range, exclude_range+1):\n",
    "            exclude_indices.append((i+j)%len(elements))\n",
    "        exclude_indices.sort(reverse=True)\n",
    "        for j in exclude_indices:\n",
    "            mortar_elements.pop(j)\n",
    "\n",
    "        mesh.add_mortar_element(\n",
    "            [elements[i]],\n",
    "            possible_contact_partners=mortar_elements.copy(),\n",
    "            n_contact_integration_points=10\n",
    "        )\n",
    "\n",
    "    system = System(coordinates, elements)\n",
    "    system.time_step = 1.0\n",
    "    system.max_number_of_time_steps = 1000\n",
    "    system.max_number_of_contact_iterations = 10\n",
    "    system.final_time = 14.0\n",
    "    system.solver_type = 'static'\n",
    "    system.convergence_test_type = 'RES'\n",
    "    system.contact_detection = True\n",
    "    system.print_residual = True\n",
    "    system.tolerance = 1e-6\n",
    "    system.printing = False\n",
    "\n",
    "    def user_force_load(self):\n",
    "        n_nodes = self.get_number_of_nodes()\n",
    "        Q = np.zeros((6, n_nodes))\n",
    "        if self.current_time < 9:\n",
    "            Q[3,n_nodes//2] = 700*self.current_time\n",
    "        else:\n",
    "            Q[3,n_nodes//2] = 700*9 + 70*(self.current_time - 9)\n",
    "        return Q\n",
    "    \n",
    "    system.degrees_of_freedom[-1][:6,0] = False  # [current time, dof 0 through 5, first node of the first beam]\n",
    "    system.degrees_of_freedom[-1][6,:] = False\n",
    "    system.force_load = functools.partial(user_force_load, system)\n",
    "    \n",
    "    return system"
   ]
  },
  {
   "cell_type": "code",
   "execution_count": 12,
   "metadata": {},
   "outputs": [],
   "source": [
    "system12 = case2(8)\n",
    "system12.solve()"
   ]
  },
  {
   "cell_type": "code",
   "execution_count": 17,
   "metadata": {},
   "outputs": [
    {
     "output_type": "display_data",
     "data": {
      "text/plain": "Canvas(toolbar=Toolbar(toolitems=[('Home', 'Reset original view', 'home', 'home'), ('Back', 'Back to previous …",
      "application/vnd.jupyter.widget-view+json": {
       "version_major": 2,
       "version_minor": 0,
       "model_id": "0ac302339f8c476ea57110c35ec55221"
      }
     },
     "metadata": {}
    }
   ],
   "source": [
    "plt.rcParams.update({\n",
    "    \"text.usetex\": True,\n",
    "    \"font.family\": \"sans-serif\",\n",
    "    \"font.sans-serif\": [\"Helvetica\"],\n",
    "    \"font.size\": 20\n",
    "})\n",
    "fig = plt.figure(figsize=(6,5), tight_layout=True)\n",
    "ax = plt.axes()\n",
    "ax.plot(*system1.contact_force_function(-1).T, label='8 non-mortar', linewidth=3.0)\n",
    "ax.plot(*system12.contact_force_function(-1).T, label='4 non-mortar', linewidth=3.0)\n",
    "ax.set_xlim((0,2*np.pi))\n",
    "ax.set_xlabel('s')\n",
    "ax.set_ylabel('$\\lambda$')\n",
    "plt.legend()\n",
    "plt.savefig(\"force.pdf\", bbox_inches='tight')"
   ]
  },
  {
   "cell_type": "code",
   "execution_count": 18,
   "metadata": {},
   "outputs": [
    {
     "output_type": "display_data",
     "data": {
      "text/plain": "Canvas(toolbar=Toolbar(toolitems=[('Home', 'Reset original view', 'home', 'home'), ('Back', 'Back to previous …",
      "application/vnd.jupyter.widget-view+json": {
       "version_major": 2,
       "version_minor": 0,
       "model_id": "29d38ce4e591435bba1676172d987679"
      }
     },
     "metadata": {}
    }
   ],
   "source": [
    "plt.rcParams.update({\n",
    "    \"text.usetex\": True,\n",
    "    \"font.family\": \"sans-serif\",\n",
    "    \"font.sans-serif\": [\"Helvetica\"],\n",
    "    \"font.size\": 20\n",
    "})\n",
    "fig = plt.figure(figsize=(6,5), tight_layout=True)\n",
    "ax = plt.axes()\n",
    "ax.scatter(*system1.gap_function[-1].T, marker='.', s=100, label='8 non-mortar')\n",
    "ax.scatter(*system12.gap_function[-1].T, marker='.', s=100, label='4 non-mortar')\n",
    "ax.set_xlim((0,2*np.pi))\n",
    "ax.set_xlabel('s')\n",
    "ax.set_ylabel('g')\n",
    "plt.legend()\n",
    "plt.savefig(\"gap.pdf\", bbox_inches='tight')"
   ]
  },
  {
   "cell_type": "code",
   "execution_count": null,
   "metadata": {},
   "outputs": [],
   "source": []
  }
 ]
}