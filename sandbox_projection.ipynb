{
 "metadata": {
  "language_info": {
   "codemirror_mode": {
    "name": "ipython",
    "version": 3
   },
   "file_extension": ".py",
   "mimetype": "text/x-python",
   "name": "python",
   "nbconvert_exporter": "python",
   "pygments_lexer": "ipython3",
   "version": "3.7.7-final"
  },
  "orig_nbformat": 2,
  "kernelspec": {
   "name": "python3",
   "display_name": "Python 3.7.7 64-bit (conda)",
   "metadata": {
    "interpreter": {
     "hash": "cedd39822bcca30d743408652c20b6bd158f920cf0471efaff7b29f612b7b2b2"
    }
   }
  }
 },
 "nbformat": 4,
 "nbformat_minor": 2,
 "cells": [
  {
   "cell_type": "code",
   "execution_count": 1,
   "metadata": {},
   "outputs": [],
   "source": [
    "import numpy as np\n",
    "from mpl_toolkits import mplot3d\n",
    "import matplotlib.pyplot as plt\n",
    "from mpl_toolkits.mplot3d import axes3d\n",
    "import nearest_point_projection as npp\n",
    "import interpolation as intp\n",
    "import ipyvolume as ipv\n",
    "%matplotlib ipympl"
   ]
  },
  {
   "source": [
    "## Circular projection"
   ],
   "cell_type": "markdown",
   "metadata": {}
  },
  {
   "cell_type": "code",
   "execution_count": 2,
   "metadata": {},
   "outputs": [],
   "source": [
    "def equidistant_curve_2D(X1, X2, s):\n",
    "    x1 = X1 @ intp.lagrange_poly(X1.shape[1] - 1, s)\n",
    "    xm = np.zeros_like(x1)\n",
    "    for i in range(len(s)):\n",
    "        sol = npp.circular_point_projection(\n",
    "            'Lagrange polynoms', X1, X2, s[i]\n",
    "        )\n",
    "        try:\n",
    "            if sol == False:\n",
    "                continue\n",
    "        except:\n",
    "            xm[:,i] = x1[:,i] + sol[1:3]\n",
    "    return xm"
   ]
  },
  {
   "cell_type": "code",
   "execution_count": 3,
   "metadata": {},
   "outputs": [
    {
     "output_type": "stream",
     "name": "stdout",
     "text": [
      "No convergence\n"
     ]
    }
   ],
   "source": [
    "X1_2D = np.array([\n",
    "    [0,1],\n",
    "    [1,2],\n",
    "    [2,3],\n",
    "    [2.5,2.5]\n",
    "]).T\n",
    "X2_2D = np.array([\n",
    "    [-1,1],\n",
    "    [1,0],\n",
    "    [1.5,2],\n",
    "    [2.75,2]\n",
    "]).T\n",
    "\n",
    "s1 = s2 = np.linspace(-1,1)\n",
    "x1_2D = X1_2D @ intp.lagrange_poly(3, s1)\n",
    "x2_2D = X2_2D @ intp.lagrange_poly(3, s2)\n",
    "\n",
    "res2D = npp.circular_point_projection(\n",
    "    'Lagrange polynoms', X1_2D, X2_2D, s1[20]\n",
    ")\n",
    "x2_sol = (X2_2D @ intp.lagrange_poly(3, [res2D[0]])).flatten()\n",
    "\n",
    "xm_2D = equidistant_curve_2D(X1_2D, X2_2D, s1)"
   ]
  },
  {
   "cell_type": "code",
   "execution_count": 4,
   "metadata": {},
   "outputs": [
    {
     "output_type": "display_data",
     "data": {
      "text/plain": "FigureCanvasNbAgg()",
      "application/vnd.jupyter.widget-view+json": {
       "version_major": 2,
       "version_minor": 0,
       "model_id": "71e42965af794054927b78689f36b5ea"
      }
     },
     "metadata": {}
    }
   ],
   "source": [
    "plt.plot(x1_2D[0], x1_2D[1])\n",
    "plt.plot(x2_2D[0], x2_2D[1])\n",
    "plt.plot(x1_2D[0,20], x1_2D[1,20], 'o')\n",
    "plt.plot(x2_sol[0], x2_sol[1], 'o')\n",
    "plt.plot([x1_2D[0,20], x1_2D[0,20]+res2D[1]], [x1_2D[1,20], x1_2D[1,20]+res2D[2]])\n",
    "plt.plot([x2_sol[0], x2_sol[0]+res2D[3]], [x2_sol[1], x2_sol[1]+res2D[4]])\n",
    "\n",
    "plt.plot(xm_2D[0], xm_2D[1], '.')\n",
    "\n",
    "plt.show()"
   ]
  },
  {
   "cell_type": "code",
   "execution_count": 1,
   "metadata": {},
   "outputs": [],
   "source": [
    "import numpy as np\n",
    "from mpl_toolkits import mplot3d\n",
    "import matplotlib.pyplot as plt\n",
    "from mpl_toolkits.mplot3d import axes3d\n",
    "import nearest_point_projection as npp\n",
    "import interpolation as intp\n",
    "import ipyvolume as ipv\n",
    "%matplotlib ipympl"
   ]
  },
  {
   "source": [
    "## Spherical projection"
   ],
   "cell_type": "markdown",
   "metadata": {}
  },
  {
   "cell_type": "code",
   "execution_count": 2,
   "metadata": {},
   "outputs": [
    {
     "output_type": "stream",
     "name": "stdout",
     "text": [
      "Problem of objectivity (the same point on one curve should project to the same on the other.\nAll constraints are fullfilled (checked), however, they still don't project to the same point.\n\tstart on s1: -0.2 finish s2: -0.3836654988050439\n\tstart on s2: -0.3836654988050439 finish s1: -0.18565400006199306\nCould be within numerical error, could be the problem with local extremes.\nLooking at the numerical errors of the constraints, it is probably the problem of numerical precision.\nThis is, however, not concerning as the gap is still symmetric.\n"
     ]
    }
   ],
   "source": [
    "X1 = np.array([\n",
    "    [0,-0.3,0.5],\n",
    "    [1,0.1,0.6],\n",
    "    [2,-0.1,0.7]\n",
    "]).T\n",
    "X2 = np.array([\n",
    "    [0.5,-1,-0.1],\n",
    "    [1.5,0,0.1],\n",
    "    [2.5,1,-0.1]\n",
    "]).T\n",
    "print(\"Problem of objectivity (the same point on one curve should project to the same on the other.\")\n",
    "print(\"All constraints are fullfilled (checked), however, they still don't project to the same point.\")\n",
    "(s20, x20, R10) = npp.spherical_point_projection_3(\n",
    "    \"Lagrange polynoms\", X1, X2, -0.2, MAXITER=30, TOLER=1e-15\n",
    ")\n",
    "print('\\tstart on s1:', -0.2, 'finish s2:', s20)\n",
    "(s10, x10, R20) = npp.spherical_point_projection_3(\n",
    "    \"Lagrange polynoms\", X2, X1, s20, MAXITER=30, TOLER=1e-15\n",
    ")\n",
    "print('\\tstart on s2:', s20, 'finish s1:', s10)\n",
    "print(\"Could be within numerical error, could be the problem with local extremes.\")\n",
    "print(\"Looking at the numerical errors of the constraints, it is probably the problem of numerical precision.\")\n",
    "print(\"This is, however, not concerning as the gap is still symmetric.\")"
   ]
  },
  {
   "source": [
    "---"
   ],
   "cell_type": "markdown",
   "metadata": {}
  },
  {
   "cell_type": "code",
   "execution_count": 3,
   "metadata": {},
   "outputs": [
    {
     "output_type": "stream",
     "name": "stdout",
     "text": [
      "(0.33609180026239793, array([1.8360918 , 0.3360918 , 0.07740846]), array([-0.12728879, -0.1753149 ,  0.39631341]))\n(0.838283245253492, array([ 1.83828325, -0.02698732,  0.68382832]), array([-0.1373793 ,  0.0892549 , -0.35797063]))\n"
     ]
    }
   ],
   "source": [
    "s20 = npp.spherical_point_projection_3(\n",
    "    \"Lagrange polynoms\", X1, X2, 1\n",
    ")\n",
    "print(s20)\n",
    "s10 = npp.spherical_point_projection_3(\n",
    "    \"Lagrange polynoms\", X2, X1, s20[0]\n",
    ")\n",
    "print(s10)"
   ]
  },
  {
   "cell_type": "code",
   "execution_count": 4,
   "metadata": {},
   "outputs": [],
   "source": [
    "(s2array, R1array, dR1array, ddR1array) = npp.spherical_point_projection_test(\n",
    "    \"Lagrange polynoms\", X1, X2, 1\n",
    ")\n",
    "(s1array, R2array, dR2array, ddR2array) =  npp.spherical_point_projection_test(\n",
    "    \"Lagrange polynoms\", X1, X2, s10[0]\n",
    ")"
   ]
  },
  {
   "cell_type": "code",
   "execution_count": 5,
   "metadata": {},
   "outputs": [
    {
     "output_type": "display_data",
     "data": {
      "text/plain": "FigureCanvasNbAgg()",
      "application/vnd.jupyter.widget-view+json": {
       "version_major": 2,
       "version_minor": 0,
       "model_id": "31fc2e62550a4813b173bd3b5e575398"
      }
     },
     "metadata": {}
    },
    {
     "output_type": "execute_result",
     "data": {
      "text/plain": [
       "[<matplotlib.lines.Line2D at 0x1cba861b788>]"
      ]
     },
     "metadata": {},
     "execution_count": 5
    }
   ],
   "source": [
    "plt.hlines((0,), -1, 1)\n",
    "plt.plot(s2array, R1array, 'b')\n",
    "plt.plot(s1array, R2array, 'r')\n",
    "plt.plot(s2array, dR1array / R1array, 'b--')\n",
    "plt.plot(s1array, dR2array / R2array, 'r--')"
   ]
  },
  {
   "cell_type": "code",
   "execution_count": null,
   "metadata": {},
   "outputs": [],
   "source": []
  },
  {
   "cell_type": "code",
   "execution_count": 6,
   "metadata": {
    "tags": []
   },
   "outputs": [
    {
     "output_type": "display_data",
     "data": {
      "text/plain": "FigureCanvasNbAgg()",
      "application/vnd.jupyter.widget-view+json": {
       "version_major": 2,
       "version_minor": 0,
       "model_id": "44b439a8b3a5457691a672b080c97030"
      }
     },
     "metadata": {}
    },
    {
     "output_type": "execute_result",
     "data": {
      "text/plain": [
       "<matplotlib.legend.Legend at 0x1ba1255ed08>"
      ]
     },
     "metadata": {},
     "execution_count": 6
    }
   ],
   "source": [
    "s1 = np.linspace(-1,1,10)\n",
    "s2 = np.linspace(-1,1,10)\n",
    "x1 = X1 @ intp.lagrange_poly(X1.shape[1]-1, s1)\n",
    "x2 = X2 @ intp.lagrange_poly(X2.shape[1]-1, s2)\n",
    "j = 3\n",
    "\n",
    "(s20, x20, R10) = npp.spherical_point_projection_3(\n",
    "    \"Lagrange polynoms\", X1, X2, s1[j], MAXITER=30, TOLER=1e-15\n",
    ")\n",
    "\n",
    "xm = x1[:,j] - R10\n",
    "\n",
    "u = np.linspace(0, 2 * np.pi, 100)\n",
    "v = np.linspace(0, np.pi, 100)\n",
    "x1s = xm[0] + np.linalg.norm(R10) * np.outer(np.cos(u), np.sin(v))\n",
    "y1s = xm[1] + np.linalg.norm(R10) * np.outer(np.sin(u), np.sin(v))\n",
    "z1s = xm[2] + np.linalg.norm(R10) * np.outer(np.ones(np.size(u)), np.cos(v))\n",
    "\n",
    "\n",
    "fig = plt.figure()\n",
    "ax = plt.axes(projection='3d')\n",
    "\n",
    "ax.plot_surface(x1s, y1s, z1s, linewidth=0.0, alpha=0.3)\n",
    "\n",
    "ax.plot(x1[0], x1[1], x1[2], label='(1)')\n",
    "ax.plot(x2[0], x2[1], x2[2], label='(2)')\n",
    "\n",
    "ax.plot([x1[0,j]], [x1[1,j]], [x1[2,j]], 'b.')\n",
    "ax.plot([xm[0]], [xm[1]], [xm[2]], 'b.')\n",
    "ax.plot([x20[0]], [x20[1]], [x20[2]], 'b.')\n",
    "\n",
    "ax.set_xlim((-1, 3))\n",
    "ax.set_ylim((-1, 3))\n",
    "ax.set_zlim((-1, 3))\n",
    "\n",
    "plt.legend()"
   ]
  },
  {
   "source": [
    "---"
   ],
   "cell_type": "markdown",
   "metadata": {}
  },
  {
   "cell_type": "code",
   "execution_count": 13,
   "metadata": {},
   "outputs": [],
   "source": [
    "def equidistant_curve_3D(X1, X2, s):\n",
    "    x1 = X1 @ intp.lagrange_poly(X1.shape[1] - 1, s)\n",
    "    s2 = []\n",
    "    x2 = []\n",
    "    xm = []\n",
    "    for i in range(len(s)):\n",
    "        sol = npp.spherical_point_projection_2(\n",
    "            \"Lagrange polynoms\", X1, X2, s[i]\n",
    "        )\n",
    "        if sol == False:\n",
    "            s2.append(100)\n",
    "            x2.append([0,0,0])\n",
    "            xm.append([0,0,0])\n",
    "        else:\n",
    "            (s20, x20, R10) = sol\n",
    "            s2.append(s20)\n",
    "            x2.append(x20)\n",
    "            xm.append(x1[:,i] - R10)\n",
    "    return (np.array(s2), np.array(x2).T, np.array(xm).T)"
   ]
  },
  {
   "cell_type": "code",
   "execution_count": 14,
   "metadata": {
    "tags": []
   },
   "outputs": [],
   "source": [
    "s1 = np.linspace(-1,1,10)\n",
    "s2 = np.linspace(-1,1,10)\n",
    "x1 = X1 @ intp.lagrange_poly(X1.shape[1]-1, s1)\n",
    "x2 = X2 @ intp.lagrange_poly(X2.shape[1]-1, s2)\n",
    "(s20, x20, xm_3D2) = equidistant_curve_3D(X1, X2, s1)\n",
    "(s10, x10, xm_3D1) = equidistant_curve_3D(X2, X1, s2)"
   ]
  },
  {
   "cell_type": "code",
   "execution_count": 15,
   "metadata": {},
   "outputs": [
    {
     "output_type": "display_data",
     "data": {
      "text/plain": "VBox(children=(Figure(animation=200.0, camera=PerspectiveCamera(fov=46.0, position=(0.0, 0.0, 2.0), projection…",
      "application/vnd.jupyter.widget-view+json": {
       "version_major": 2,
       "version_minor": 0,
       "model_id": "2cdbf5f38cc84655b09b892cb314afd1"
      }
     },
     "metadata": {}
    }
   ],
   "source": [
    "fig = ipv.figure()\n",
    "ipv.pylab.plot(x1[0], x1[1], x1[2], color='red')\n",
    "ipv.pylab.plot(x2[0], x2[1], x2[2], color='blue')\n",
    "ipv.pylab.plot(xm_3D2[0], xm_3D2[1], xm_3D2[2], color='green')\n",
    "ipv.pylab.plot(xm_3D1[0], xm_3D1[1], xm_3D1[2], color='orange')\n",
    "\n",
    "g3 = ipv.scatter(\n",
    "    np.hstack((\n",
    "        x1[0].reshape(x1.shape[1],1),\n",
    "        x20[0].reshape(x1.shape[1],1),\n",
    "        xm_3D2[0].reshape(x1.shape[1],1)\n",
    "    )),\n",
    "    np.hstack((\n",
    "        x1[1].reshape(x1.shape[1],1),\n",
    "        x20[1].reshape(x1.shape[1],1),\n",
    "        xm_3D2[1].reshape(x1.shape[1],1)\n",
    "    )),\n",
    "    np.hstack((\n",
    "        x1[2].reshape(x1.shape[1],1),\n",
    "        x20[2].reshape(x1.shape[1],1),\n",
    "        xm_3D2[2].reshape(x1.shape[1],1)\n",
    "    )),\n",
    "    marker='sphere', color='green'\n",
    ")\n",
    "\n",
    "ipv.animation_control(g3)\n",
    "\n",
    "ipv.xyzlim(-1,5)\n",
    "\n",
    "ipv.show()"
   ]
  },
  {
   "cell_type": "code",
   "execution_count": null,
   "metadata": {},
   "outputs": [],
   "source": []
  }
 ]
}