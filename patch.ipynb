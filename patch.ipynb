{
 "metadata": {
  "language_info": {
   "codemirror_mode": {
    "name": "ipython",
    "version": 3
   },
   "file_extension": ".py",
   "mimetype": "text/x-python",
   "name": "python",
   "nbconvert_exporter": "python",
   "pygments_lexer": "ipython3",
   "version": "3.7.7-final"
  },
  "orig_nbformat": 2,
  "kernelspec": {
   "name": "python377jvsc74a57bd0cedd39822bcca30d743408652c20b6bd158f920cf0471efaff7b29f612b7b2b2",
   "display_name": "Python 3.7.7 64-bit (conda)"
  }
 },
 "nbformat": 4,
 "nbformat_minor": 2,
 "cells": [
  {
   "cell_type": "code",
   "execution_count": 1,
   "metadata": {},
   "outputs": [],
   "source": [
    "%matplotlib widget\n",
    "import ipywidgets as widgets\n",
    "import matplotlib.pyplot as plt\n",
    "import numpy as np\n",
    "from patch import patch"
   ]
  },
  {
   "cell_type": "code",
   "execution_count": 2,
   "metadata": {
    "tags": []
   },
   "outputs": [
    {
     "output_type": "stream",
     "name": "stdout",
     "text": [
      "Computation is finished, reached the end of time.\n"
     ]
    }
   ],
   "source": [
    "(h, gap_function) = patch(printing=False)\n",
    "n_nod_1 = 5"
   ]
  },
  {
   "cell_type": "code",
   "execution_count": 3,
   "metadata": {},
   "outputs": [
    {
     "output_type": "display_data",
     "data": {
      "text/plain": "FigureCanvasNbAgg()",
      "application/vnd.jupyter.widget-view+json": {
       "version_major": 2,
       "version_minor": 0,
       "model_id": "5bffa309a9a844618d04b5e61a850351"
      }
     },
     "metadata": {}
    },
    {
     "output_type": "display_data",
     "data": {
      "text/plain": "interactive(children=(IntSlider(value=1, description='i', max=10), Output()), _dom_classes=('widget-interact',…",
      "application/vnd.jupyter.widget-view+json": {
       "version_major": 2,
       "version_minor": 0,
       "model_id": "a40e75f1a7aa48a0859c99bd82b0c6ef"
      }
     },
     "metadata": {}
    }
   ],
   "source": [
    "# set up plot\n",
    "fig, ax = plt.subplots(figsize=(6, 4))\n",
    "ax.set_xlim((-2,13))\n",
    "ax.set_ylim((-3,7))\n",
    "ax.grid(True)\n",
    " \n",
    "@widgets.interact(i=(0, len(h)-1, 1))\n",
    "def update(i = 1.0):\n",
    "    # Remove old lines from plot\n",
    "    [l.remove() for l in ax.lines]\n",
    "    # Colors\n",
    "    color_map = plt.get_cmap(\"tab10\")\n",
    "    c0 = color_map(0)\n",
    "    c1 = color_map(1)\n",
    "    # New plots\n",
    "    ax.plot(h[i,0,:n_nod_1],h[i,2,:n_nod_1], '.-', color=c0)\n",
    "    ax.plot(h[i,0,n_nod_1:],h[i,2,n_nod_1:], '.-', color=c1)"
   ]
  },
  {
   "cell_type": "code",
   "execution_count": null,
   "metadata": {},
   "outputs": [],
   "source": []
  }
 ]
}